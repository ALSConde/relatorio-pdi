{
 "cells": [
  {
   "cell_type": "markdown",
   "metadata": {
    "collapsed": false
   },
   "source": [
    "André Luiz da Silva Conde - BI3007723\n",
    "\n",
    "\n",
    "# Departamento de Engenharia Elétrica, Universidade de Stanford"
   ]
  },
  {
   "cell_type": "code",
   "execution_count": null,
   "metadata": {
    "ExecuteTime": {
     "end_time": "2023-09-12T17:53:51.609859900Z",
     "start_time": "2023-09-12T17:53:51.578447300Z"
    },
    "collapsed": false
   },
   "outputs": [],
   "source": [
    "import numpy as np\n",
    "from PIL import Image\n",
    "from matplotlib import pyplot as plt\n",
    "\n",
    "PCB = 'pcb.png'\n",
    "PCB_CROPPED = 'pcbCropped.png'\n",
    "PCB_CROPPED_TRANSLATED = 'pcbCroppedTranslated.png'\n",
    "PCB_CROPPED_TRANSLATED_DEFECTED = 'pcbCroppedTranslatedDefected.png'\n",
    "\n",
    "\n",
    "def open_image(image_name):\n",
    "    return Image.open('images/' + image_name).convert('L')"
   ]
  },
  {
   "cell_type": "code",
   "execution_count": null,
   "metadata": {
    "ExecuteTime": {
     "end_time": "2023-09-12T17:53:51.916667600Z",
     "start_time": "2023-09-12T17:53:51.594139200Z"
    },
    "collapsed": false
   },
   "outputs": [],
   "source": [
    "cropped = open_image(PCB_CROPPED)\n",
    "crp_width, crp_height = cropped.size\n",
    "\n",
    "plt.imshow(cropped, cmap='gray')\n",
    "plt.title('Original ' + PCB + (' (%dx%d)' % (crp_width, crp_height)))\n",
    "plt.show()\n",
    "\n",
    "cropped = np.array(cropped)"
   ]
  },
  {
   "cell_type": "code",
   "execution_count": null,
   "metadata": {
    "ExecuteTime": {
     "end_time": "2023-09-12T17:53:52.226586600Z",
     "start_time": "2023-09-12T17:53:51.916667600Z"
    },
    "collapsed": false
   },
   "outputs": [],
   "source": [
    "defected = open_image(PCB_CROPPED_TRANSLATED_DEFECTED)\n",
    "def_width, def_height = defected.size\n",
    "\n",
    "plt.imshow(defected, cmap='gray')\n",
    "plt.title('Defected ' + PCB_CROPPED_TRANSLATED_DEFECTED + (' (%dx%d)' % (def_width, def_height)))\n",
    "plt.show()\n",
    "\n",
    "defected = np.array(defected)"
   ]
  },
  {
   "cell_type": "code",
   "execution_count": null,
   "metadata": {
    "ExecuteTime": {
     "end_time": "2023-09-12T17:53:52.563720700Z",
     "start_time": "2023-09-12T17:53:52.233608500Z"
    },
    "collapsed": false
   },
   "outputs": [],
   "source": [
    "# apply a shift (10, 10) to the defected image\n",
    "defected_shifted = np.zeros((crp_width, crp_height))\n",
    "\n",
    "y_shift = 10\n",
    "x_shift = 10\n",
    "\n",
    "defected_shifted[y_shift + 1: crp_width, x_shift + 1: crp_height] = defected[1: crp_width - y_shift,\n",
    "                                                                    1: crp_height - x_shift]\n",
    "\n",
    "plt.imshow(defected_shifted, cmap='gray')\n",
    "plt.title('Defected ' + PCB_CROPPED_TRANSLATED_DEFECTED + ' shifted (10, 10)' + (\n",
    "        ' (%dx%d)' % (def_width, def_height)))\n",
    "plt.show()"
   ]
  },
  {
   "cell_type": "code",
   "execution_count": null,
   "metadata": {
    "ExecuteTime": {
     "end_time": "2023-09-12T17:53:52.872952600Z",
     "start_time": "2023-09-12T17:53:52.563720700Z"
    },
    "collapsed": false
   },
   "outputs": [],
   "source": [
    "# show difference between original and defected\n",
    "defected_diff = cropped - defected\n",
    "\n",
    "plt.imshow(defected_diff, cmap='gray')\n",
    "plt.title('Difference between original and defected')\n",
    "plt.show()"
   ]
  },
  {
   "cell_type": "code",
   "execution_count": null,
   "metadata": {
    "ExecuteTime": {
     "end_time": "2023-09-12T17:53:53.802829700Z",
     "start_time": "2023-09-12T17:53:52.872952600Z"
    },
    "collapsed": false
   },
   "outputs": [],
   "source": [
    "# show difference between original and defected shifted\n",
    "defected_diff_shifted = cropped - defected_shifted\n",
    "\n",
    "for x in range(def_width):\n",
    "    for y in range(def_height):\n",
    "            defected_diff_shifted[x, y] = abs(cropped[x, y] - defected_shifted[x, y])\n",
    "\n",
    "plt.imshow(defected_diff_shifted, cmap='gray')\n",
    "plt.title('Difference between original and defected shifted')\n",
    "plt.show()"
   ]
  },
  {
   "cell_type": "code",
   "execution_count": null,
   "metadata": {
    "ExecuteTime": {
     "end_time": "2023-09-12T17:57:29.915166300Z",
     "start_time": "2023-09-12T17:57:29.623755100Z"
    },
    "collapsed": false
   },
   "outputs": [],
   "source": [
    "# threshold the difference image\n",
    "defected_diff_shifted_thresholded = defected_diff_shifted > 0.15\n",
    "height, width = defected_diff_shifted_thresholded.shape\n",
    "border = round(height * 0.05)\n",
    "borderMask = np.zeros((height, width))\n",
    "borderMask[border:height - border, border:width - border] = 1\n",
    "defected_diff_shifted_thresholded = defected_diff_shifted_thresholded * borderMask\n",
    "\n",
    "\n",
    "plt.imshow(defected_diff_shifted_thresholded, cmap='gray')\n",
    "plt.title('Thresholded + Aligned Difference Image')\n",
    "plt.show()"
   ]
  },
  {
   "cell_type": "code",
   "execution_count": null,
   "metadata": {
    "ExecuteTime": {
     "end_time": "2023-09-12T18:03:11.833594700Z",
     "start_time": "2023-09-12T18:03:10.396849400Z"
    },
    "collapsed": false
   },
   "outputs": [],
   "source": [
    "# plot all in same plt for comparison\n",
    "fig = plt.figure(figsize=(15, 15))\n",
    "\n",
    "ax1 = fig.add_subplot(2, 2, 1)\n",
    "ax1.imshow(cropped, cmap='gray')\n",
    "\n",
    "ax2 = fig.add_subplot(2, 2, 2)\n",
    "ax2.imshow(defected, cmap='gray')\n",
    "\n",
    "ax3 = fig.add_subplot(2, 2, 3)\n",
    "ax3.imshow(defected_shifted, cmap='gray')\n",
    "\n",
    "ax4 = fig.add_subplot(2, 2, 4)\n",
    "ax4.imshow(defected_diff_shifted_thresholded, cmap='gray')\n",
    "\n",
    "ax1.title.set_text('Original ' + PCB_CROPPED + (' (%dx%d)' % (crp_width, crp_height)))\n",
    "ax2.title.set_text('Defected ' + PCB_CROPPED_TRANSLATED_DEFECTED + (' (%dx%d)' % (def_width, def_height)))\n",
    "ax3.title.set_text('Defected ' + PCB_CROPPED_TRANSLATED_DEFECTED + ' shifted (10, 10)' + (\n",
    "        ' (%dx%d)' % (def_width, def_height)))\n",
    "ax4.title.set_text('Thresholded + Aligned Difference Image')\n",
    "\n",
    "plt.show()"
   ]
  }
 ],
 "metadata": {
  "kernelspec": {
   "display_name": "Python 3",
   "language": "python",
   "name": "python3"
  },
  "language_info": {
   "codemirror_mode": {
    "name": "ipython",
    "version": 2
   },
   "file_extension": ".py",
   "mimetype": "text/x-python",
   "name": "python",
   "nbconvert_exporter": "python",
   "pygments_lexer": "ipython2",
   "version": "2.7.6"
  }
 },
 "nbformat": 4,
 "nbformat_minor": 0
}
