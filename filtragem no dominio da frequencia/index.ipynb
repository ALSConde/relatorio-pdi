{
 "cells": [
  {
   "cell_type": "markdown",
   "metadata": {
    "collapsed": false
   },
   "source": [
    "André Luiz da Silva Conde\n",
    "\n",
    "<center>\n",
    "\n",
    "# Filtragem no domínio da frequência\n",
    "\n",
    "</center>\n",
    "\n",
    "1. Calcule e visualize o espectro de uma imagem 512x512 pixels:"
   ]
  },
  {
   "cell_type": "markdown",
   "metadata": {
    "collapsed": false
   },
   "source": [
    "1.a crie e visualize uma imagem simples – quadrado branco sobre fundo preto"
   ]
  },
  {
   "cell_type": "code",
   "execution_count": null,
   "metadata": {
    "ExecuteTime": {
     "end_time": "2023-09-23T16:51:48.243477300Z",
     "start_time": "2023-09-23T16:51:47.909640900Z"
    },
    "collapsed": false
   },
   "outputs": [],
   "source": [
    "import os\n",
    "\n",
    "import matplotlib.pyplot as plt\n",
    "import numpy as np\n",
    "from PIL import Image\n",
    "\n",
    "\n",
    "def make_square(shape: (int, int), inner_shape: (int, int, int), translate: (int, int) = (0, 0)) -> np.array:\n",
    "    if inner_shape[0] > shape[0] or inner_shape[1] > shape[1]:\n",
    "        raise ValueError('shape_center must be inside shape')\n",
    "\n",
    "    square = np.zeros(shape)\n",
    "    x_center = shape[0] / 2 + translate[0]\n",
    "    y_center = shape[1] / 2 + translate[1]\n",
    "\n",
    "    square[int(x_center - inner_shape[0] / 2):int(x_center + inner_shape[0] / 2),\n",
    "    int(y_center - inner_shape[1] / 2):int(y_center + inner_shape[1] / 2)] = 255\n",
    "\n",
    "    pillow = Image.fromarray(square)\n",
    "    rotated = pillow.rotate(inner_shape[2])\n",
    "    square = np.array(rotated)\n",
    "\n",
    "    return square\n",
    "\n",
    "\n",
    "square_shape = (512, 512)\n",
    "square_center_shape = (64, 64, 180)\n",
    "\n",
    "\n",
    "def get_default_square():\n",
    "    return make_square(square_shape, square_center_shape)\n",
    "\n",
    "\n",
    "plt.imshow(make_square(square_shape, square_center_shape), cmap='gray')\n",
    "plt.show()"
   ]
  },
  {
   "cell_type": "markdown",
   "metadata": {
    "collapsed": false
   },
   "source": [
    "1.b calcular e visualizar seu espectro de Fourier (amplitudes)."
   ]
  },
  {
   "cell_type": "code",
   "execution_count": null,
   "metadata": {
    "ExecuteTime": {
     "end_time": "2023-09-23T16:51:48.257656700Z",
     "start_time": "2023-09-23T16:51:48.020279700Z"
    },
    "collapsed": false
   },
   "outputs": [],
   "source": [
    "def fourier_transform_unshift(img):\n",
    "    # Perform Fourier Transform\n",
    "    dft = np.fft.fft2(img)\n",
    "\n",
    "    # Compute magnitude and phase spectrum\n",
    "    fourier = 20 * np.log(np.abs(dft) + 1e-8)\n",
    "    phase = np.angle(dft)\n",
    "\n",
    "    return fourier, phase\n",
    "\n",
    "\n",
    "square_fourier_unshift, square_phase_unshift = fourier_transform_unshift(get_default_square())\n",
    "\n",
    "plt.imshow(square_fourier_unshift, cmap='gray')\n",
    "plt.show()"
   ]
  },
  {
   "cell_type": "markdown",
   "metadata": {
    "collapsed": false
   },
   "source": [
    "1.c calcular e visualizar seu espectro de Fourier (fases)."
   ]
  },
  {
   "cell_type": "code",
   "execution_count": null,
   "metadata": {
    "ExecuteTime": {
     "end_time": "2023-09-23T16:51:48.342235500Z",
     "start_time": "2023-09-23T16:51:48.174303300Z"
    },
    "collapsed": false
   },
   "outputs": [],
   "source": [
    "plt.imshow(square_phase_unshift, cmap='gray')\n",
    "plt.show()"
   ]
  },
  {
   "cell_type": "markdown",
   "metadata": {
    "collapsed": false
   },
   "source": [
    "1.d obter e visualizar seu espectro de Fourier centralizado"
   ]
  },
  {
   "cell_type": "code",
   "execution_count": null,
   "metadata": {
    "ExecuteTime": {
     "end_time": "2023-09-23T16:51:48.370550200Z",
     "start_time": "2023-09-23T16:51:48.343763100Z"
    },
    "collapsed": false
   },
   "outputs": [],
   "source": [
    "def fourier_transform(img):\n",
    "    # Perform Fourier Transform\n",
    "    dft = np.fft.fft2(img)\n",
    "    dft_shift = np.fft.fftshift(dft)\n",
    "\n",
    "    # Compute magnitude and phase spectrum\n",
    "    fourier = 20 * np.log(np.abs(dft_shift) + 1e-8)\n",
    "    phase = np.angle(dft_shift)\n",
    "\n",
    "    return fourier, phase\n",
    "\n",
    "\n",
    "square_fourier, _ = fourier_transform(get_default_square())"
   ]
  },
  {
   "cell_type": "code",
   "execution_count": null,
   "metadata": {
    "ExecuteTime": {
     "end_time": "2023-09-23T16:51:48.506470400Z",
     "start_time": "2023-09-23T16:51:48.384328400Z"
    },
    "collapsed": false
   },
   "outputs": [],
   "source": [
    "\n",
    "plt.imshow(square_fourier, cmap='gray')\n",
    "plt.show()"
   ]
  },
  {
   "cell_type": "markdown",
   "metadata": {
    "collapsed": false
   },
   "source": [
    "1.e Aplique uma rotação de 40º no quadrado e repita os passo b-d;"
   ]
  },
  {
   "cell_type": "code",
   "execution_count": null,
   "metadata": {
    "ExecuteTime": {
     "end_time": "2023-09-23T16:51:49.139412800Z",
     "start_time": "2023-09-23T16:51:48.507468100Z"
    },
    "collapsed": false
   },
   "outputs": [],
   "source": [
    "square_center_shape = (64, 64, 40)\n",
    "\n",
    "_, axs = plt.subplots(1, 3, figsize=(15, 15))\n",
    "\n",
    "axs[0].imshow(make_square(square_shape, square_center_shape), cmap='gray')\n",
    "axs[0].set_title('Imagem original')\n",
    "\n",
    "square_fourier_rotated, square_phase_rotated = fourier_transform(make_square(square_shape, square_center_shape))\n",
    "\n",
    "axs[1].imshow(square_fourier_rotated, cmap='gray')\n",
    "axs[1].set_title('Espectro de Fourier')\n",
    "\n",
    "axs[2].imshow(square_phase_rotated, cmap='gray')\n",
    "axs[2].set_title('Fase')\n",
    "\n",
    "plt.show()\n"
   ]
  },
  {
   "cell_type": "markdown",
   "metadata": {
    "collapsed": false
   },
   "source": [
    "1.f Aplique uma translação nos eixos x e y no quadrado e repita os passo b-d"
   ]
  },
  {
   "cell_type": "code",
   "execution_count": null,
   "metadata": {
    "ExecuteTime": {
     "end_time": "2023-09-23T16:51:49.650048100Z",
     "start_time": "2023-09-23T16:51:49.138415500Z"
    },
    "collapsed": false
   },
   "outputs": [],
   "source": [
    "translate = (100, 100)\n",
    "inner_shape = (64, 64, 0)\n",
    "\n",
    "square_translated = make_square(square_shape, inner_shape, translate)\n",
    "\n",
    "_, axs = plt.subplots(1, 3, figsize=(15, 15))\n",
    "\n",
    "axs[0].imshow(square_translated, cmap='gray')\n",
    "axs[0].set_title('Imagem original')\n",
    "\n",
    "square_fourier_translated, square_phase_translated = fourier_transform(square_translated)\n",
    "\n",
    "axs[1].imshow(square_fourier_translated, cmap='gray')\n",
    "axs[1].set_title('Espectro de Fourier')\n",
    "\n",
    "axs[2].imshow(square_phase_translated, cmap='gray')\n",
    "axs[2].set_title('Fase')\n",
    "\n",
    "plt.show()\n"
   ]
  },
  {
   "cell_type": "markdown",
   "metadata": {
    "collapsed": false
   },
   "source": [
    "1.g Aplique um zoom na imagem e repita os passo b-d."
   ]
  },
  {
   "cell_type": "code",
   "execution_count": null,
   "metadata": {
    "ExecuteTime": {
     "end_time": "2023-09-23T16:51:50.110112700Z",
     "start_time": "2023-09-23T16:51:49.676444600Z"
    },
    "collapsed": false
   },
   "outputs": [],
   "source": [
    "# the zoom is made by changing the inner shape of the square\n",
    "# zooming in is done by making the inner shape smaller\n",
    "zoom = 3\n",
    "square_center_shape = (64 * zoom, 64 * zoom, 0)\n",
    "\n",
    "_, axs = plt.subplots(1, 3, figsize=(15, 15))\n",
    "\n",
    "axs[0].imshow(make_square(square_shape, square_center_shape), cmap='gray')\n",
    "axs[0].set_title('Imagem original')\n",
    "\n",
    "square_fourier_zoomed, square_phase_zoomed = fourier_transform(make_square(square_shape, square_center_shape))\n",
    "\n",
    "axs[1].imshow(square_fourier_zoomed, cmap='gray')\n",
    "axs[1].set_title('Espectro de Fourier')\n",
    "\n",
    "axs[2].imshow(square_phase_zoomed, cmap='gray')\n",
    "axs[2].set_title('Fase')\n",
    "\n",
    "plt.show()"
   ]
  },
  {
   "cell_type": "markdown",
   "metadata": {
    "collapsed": false
   },
   "source": [
    "1.h Explique o que acontece com a transformada de Fourier quando é aplicado a rotação, translação e zoom.\n",
    "\n",
    "- Rotação: A rotação da imagem no domínio espacial causa uma rotação no domínio da frequência. Isso acontece porque a rotação no domínio espacial é feita por meio de uma multiplicação por uma matriz de rotação, que é equivalente a uma convolução no domínio da frequência. A convolução no domínio da frequência é equivalente à multiplicação no domínio espacial, então a rotação no domínio espacial é equivalente a uma multiplicação no domínio da frequência.\n",
    "\n",
    "- Translação: A translação da imagem no domínio espacial causa uma multiplicação por uma exponencial no domínio da frequência. Isso acontece porque a translação no domínio espacial é feita por meio de uma multiplicação por uma exponencial, equivalente a uma convolução no domínio da frequência. A convolução no domínio da frequência é equivalente à multiplicação no domínio espacial, então a translação no domínio espacial é equivalente a uma multiplicação no domínio da frequência.\n",
    "\n",
    "- Zoom: O zoom da imagem no domínio espacial causa uma convolução no domínio da frequência. Isso acontece porque o zoom no domínio espacial é feito por meio de uma convolução, equivalente a uma multiplicação no domínio da frequência. A convolução no domínio da frequência é equivalente à multiplicação no domínio espacial, então o zoom no domínio espacial é equivalente a uma multiplicação no domínio da frequência."
   ]
  },
  {
   "cell_type": "markdown",
   "metadata": {
    "collapsed": false
   },
   "source": [
    "2. Crie filtros passa-baixa do tipo ideal, butterworth e gaussiano e aplique-o às imagens disponibilizadas. Visualize o seguinte:"
   ]
  },
  {
   "cell_type": "markdown",
   "metadata": {
    "collapsed": false
   },
   "source": [
    "A transformada inversa de Fourier do filtro é dada por:"
   ]
  },
  {
   "cell_type": "code",
   "execution_count": null,
   "metadata": {
    "ExecuteTime": {
     "end_time": "2023-09-23T16:51:50.113742700Z",
     "start_time": "2023-09-23T16:51:50.110112700Z"
    },
    "collapsed": false
   },
   "outputs": [],
   "source": [
    "def inverse_fourier_transform(img, phase):\n",
    "    # Compute inverse Fourier Transform\n",
    "    magnitude_spectrum = np.exp((img - 1e-8) / 20)\n",
    "    real = magnitude_spectrum * np.cos(phase)\n",
    "    imag = magnitude_spectrum * np.sin(phase)\n",
    "    dft_shift = real + imag * 1j\n",
    "    dft = np.fft.ifftshift(dft_shift)\n",
    "    img_back = np.fft.ifft2(dft)\n",
    "\n",
    "    return img_back"
   ]
  },
  {
   "cell_type": "markdown",
   "metadata": {
    "collapsed": false
   },
   "source": [
    "Para os cálculos dos filtros foi utilizada uma função auxiliar para calcular a distância entre dois pontos. A função recebe a forma da imagem e as coordenadas dos pontos e retorna a distância entre eles no domínio da frequência. A implementação da função é mostrada abaixo:"
   ]
  },
  {
   "cell_type": "code",
   "execution_count": null,
   "metadata": {
    "ExecuteTime": {
     "end_time": "2023-09-23T16:51:50.119229100Z",
     "start_time": "2023-09-23T16:51:50.114748800Z"
    },
    "collapsed": false
   },
   "outputs": [],
   "source": [
    "def dij(shape, i, j):\n",
    "    return np.sqrt((i - shape[0] / 2) ** 2 + (j - shape[1] / 2) ** 2)"
   ]
  },
  {
   "cell_type": "markdown",
   "metadata": {
    "collapsed": false
   },
   "source": [
    "Abaixo estão as implementações dos filtros passa-baixa ideal, butterworth e gaussiano. As implementações são baseadas nas equações apresentadas em aula.\n",
    "Dado D(u, v) como:\n",
    "<br>\n",
    "<center>\n",
    "\n",
    "$D(u, v) = sqrt((u - M/2)^2 + (v - N/2)^2)$\n",
    "\n",
    "</center>\n",
    "\n",
    "e  H( u, v) para o filtro passa baixa ideal como:\n",
    "\n",
    "<center>\n",
    "\n",
    "$H(u, v) = 1, se D(u, v) <= D_0$ <br>\n",
    "$H(u, v) = 0, se D(u, v) > D_0$\n",
    "\n",
    "</center>\n",
    "\n",
    "segue a implementação do filtro passa-baixa ideal:"
   ]
  },
  {
   "cell_type": "code",
   "execution_count": null,
   "metadata": {
    "ExecuteTime": {
     "end_time": "2023-09-23T16:51:50.125850400Z",
     "start_time": "2023-09-23T16:51:50.121750Z"
    },
    "collapsed": false
   },
   "outputs": [],
   "source": [
    "def low_pass_ideal_filter(img, cutoff):\n",
    "    H = np.zeros(img.shape)\n",
    "\n",
    "    for i in range(img.shape[0]):\n",
    "        for j in range(img.shape[1]):\n",
    "            Dij = dij(img.shape, i, j)\n",
    "            if Dij <= cutoff:\n",
    "                H[i, j] = 1\n",
    "\n",
    "    return H"
   ]
  },
  {
   "cell_type": "markdown",
   "metadata": {
    "collapsed": false
   },
   "source": [
    "Para o filtro butterworth, a equação é dada por:\n",
    "<br>\n",
    "<center>\n",
    "\n",
    "$H(u, v) = \\frac{1}{1 + (\\frac{D(u, v)}{D_0})^{2n}}$\n",
    "\n",
    "</center>\n",
    "\n",
    "onde n é a ordem do filtro. A implementação do filtro butterworth é mostrada abaixo:"
   ]
  },
  {
   "cell_type": "code",
   "execution_count": null,
   "metadata": {
    "ExecuteTime": {
     "end_time": "2023-09-23T16:51:50.130425300Z",
     "start_time": "2023-09-23T16:51:50.127843900Z"
    },
    "collapsed": false
   },
   "outputs": [],
   "source": [
    "def low_pass_butterworth_filter(img, cutoff, order):\n",
    "    H = np.zeros(img.shape)\n",
    "\n",
    "    for i in range(img.shape[0]):\n",
    "        for j in range(img.shape[1]):\n",
    "            Dij = dij(img.shape, i, j)\n",
    "            H[i, j] = 1 / (1 + (Dij / cutoff) ** (2 * order))\n",
    "\n",
    "    return H"
   ]
  },
  {
   "cell_type": "markdown",
   "metadata": {
    "collapsed": false
   },
   "source": [
    "Para o filtro gaussiano, a equação é dada por:\n",
    "<br>\n",
    "<center>\n",
    "\n",
    "$H(u, v) = e^{-\\frac{D(u, v)^2}{2D_0^2}}$\n",
    "\n",
    "</center>\n",
    "\n",
    "A implementação do filtro gaussiano é mostrada abaixo:"
   ]
  },
  {
   "cell_type": "code",
   "execution_count": null,
   "metadata": {
    "ExecuteTime": {
     "end_time": "2023-09-23T16:51:50.193181400Z",
     "start_time": "2023-09-23T16:51:50.132014200Z"
    },
    "collapsed": false
   },
   "outputs": [],
   "source": [
    "def low_pass_gaussian_filter(img, cutoff):\n",
    "    H = np.zeros(img.shape)\n",
    "\n",
    "    for i in range(img.shape[0]):\n",
    "        for j in range(img.shape[1]):\n",
    "            Dij = dij(img.shape, i, j)\n",
    "            H[i, j] = np.exp(-(Dij ** 2) / (2 * (cutoff ** 2)))\n",
    "\n",
    "    return H"
   ]
  },
  {
   "cell_type": "markdown",
   "metadata": {
    "collapsed": false
   },
   "source": [
    "Para facilitar a aplicação dos filtros, foi criada uma função que recebe o tipo do filtro e retorna uma função que aplica o filtro. Essa implementação baseia-se no padrão de projeto Factory. A implementação da função é mostrada abaixo:"
   ]
  },
  {
   "cell_type": "code",
   "execution_count": null,
   "metadata": {
    "ExecuteTime": {
     "end_time": "2023-09-23T16:51:50.193700300Z",
     "start_time": "2023-09-23T16:51:50.138196900Z"
    },
    "collapsed": false
   },
   "outputs": [],
   "source": [
    "# Low pass filter factory\n",
    "def make_low_pass_filter(filter_type):\n",
    "    __name__ = 'filtro passa-baixa'\n",
    "\n",
    "    if filter_type == 'butterworth':\n",
    "        return low_pass_butterworth_filter\n",
    "    elif filter_type == 'gaussian':\n",
    "        return low_pass_gaussian_filter\n",
    "    elif filter_type == 'ideal':\n",
    "        return low_pass_ideal_filter\n",
    "    else:\n",
    "        raise Exception('Invalid filter type')"
   ]
  },
  {
   "cell_type": "markdown",
   "metadata": {
    "collapsed": false
   },
   "source": [
    "Por fim, a função `apply_filter` aplica o filtro na imagem baseada na banda de passagem. A implementação da função é mostrada abaixo:"
   ]
  },
  {
   "cell_type": "code",
   "execution_count": null,
   "metadata": {
    "ExecuteTime": {
     "end_time": "2023-09-23T16:51:50.193700300Z",
     "start_time": "2023-09-23T16:51:50.144708600Z"
    },
    "collapsed": false
   },
   "outputs": [],
   "source": [
    "pass_band_types = ['low', 'high']\n",
    "filter_types = ['butterworth', 'gaussian', 'ideal']\n",
    "\n",
    "\n",
    "def apply_filter(img, cutoff: int, filter_factory, filter_type: str, order=None):\n",
    "    if filter_type not in filter_types:\n",
    "        raise Exception('Invalid filter type')\n",
    "\n",
    "    f = filter_factory(filter_type)\n",
    "\n",
    "    if filter_type == 'butterworth':\n",
    "        if order is None:\n",
    "            order = static_order\n",
    "\n",
    "        return f(img, cutoff, order)\n",
    "\n",
    "    return f(img, cutoff)"
   ]
  },
  {
   "cell_type": "markdown",
   "metadata": {
    "collapsed": false
   },
   "source": [
    "A função `process_image` é responsável por aplicar o filtro na imagem e mostrar os resultados. Essa e às demais funções implementadas são utilizadas para processar as imagens com os bandas passa baixa e passa alta. A implementação da função é mostrada abaixo:"
   ]
  },
  {
   "cell_type": "code",
   "execution_count": null,
   "metadata": {
    "ExecuteTime": {
     "end_time": "2023-09-23T16:51:50.194749200Z",
     "start_time": "2023-09-23T16:51:50.151738200Z"
    },
    "collapsed": false
   },
   "outputs": [],
   "source": [
    "def process_image(img_path: str, cutoff: int, filter_factory, filter_type: str, order=None):\n",
    "    img = np.array(Image.open('./images/' + img_path).convert('L'))\n",
    "\n",
    "    F, phase = fourier_transform(img)\n",
    "\n",
    "    H = apply_filter(img, cutoff, filter_factory, filter_type, order)\n",
    "\n",
    "    G = F * H\n",
    "\n",
    "    g = inverse_fourier_transform(G, phase).astype(np.uint8)\n",
    "\n",
    "    fig, axis = plt.subplots(2, 3)\n",
    "\n",
    "    plt.suptitle(f'Imagem {img_path}; {filter_type} com frequência de corte {cutoff}')\n",
    "\n",
    "    axis[0][0].imshow(img, cmap='gray')\n",
    "    axis[0][0].set_title('f(x, y)')\n",
    "\n",
    "    axis[0][1].imshow(F, cmap='gray')\n",
    "    axis[0][1].set_title('F(u, v)')\n",
    "\n",
    "    axis[0][2].imshow(H, cmap='gray')\n",
    "    axis[0][2].set_title('H(u, v)')\n",
    "\n",
    "    axis[1][0].imshow(G, cmap='gray')\n",
    "    axis[1][0].set_title('F(u, v) * H(u, v)')\n",
    "\n",
    "    axis[1][1].imshow(g, cmap='gray')\n",
    "    axis[1][1].set_title('g(x, y)')\n",
    "\n",
    "    axis[1][2].imshow(img - g, cmap='gray')\n",
    "    axis[1][2].set_title('f(x, y) - g(x, y)')\n",
    "\n",
    "    plt.show()\n",
    "\n",
    "\n",
    "static_order = 1"
   ]
  },
  {
   "cell_type": "markdown",
   "metadata": {
    "collapsed": false
   },
   "source": [
    "Aplica o filtro passa-baixa nas imagens com frequência de corte 25 e ordem 1."
   ]
  },
  {
   "cell_type": "code",
   "execution_count": null,
   "metadata": {
    "ExecuteTime": {
     "end_time": "2023-09-23T16:52:03.054659500Z",
     "start_time": "2023-09-23T16:51:50.160196500Z"
    },
    "collapsed": false
   },
   "outputs": [],
   "source": [
    "for img_path in os.listdir('./images'):\n",
    "    for filter_type in filter_types:\n",
    "        process_image(img_path, 25, make_low_pass_filter, filter_type)"
   ]
  },
  {
   "cell_type": "markdown",
   "metadata": {
    "collapsed": false
   },
   "source": [
    "3. Crie um filtro passa-alta do tipo ideal, butterworth e gaussiano e aplique-o às imagens disponibilizadas. Visualize os mesmos dados da tarefa anterior"
   ]
  },
  {
   "cell_type": "markdown",
   "metadata": {
    "collapsed": false
   },
   "source": [
    "Para o filtro passa-alta ideal, a equação é dada por:\n",
    "<br>\n",
    "<center>\n",
    "\n",
    "$H(u, v) = 1 - H_{pb}(u, v)$\n",
    "\n",
    "</center>\n",
    "\n",
    " Observando $H(u, v)$ é possível concluir que o filtro passa-alta ideal é o filtro passa-baixa ideal subtraído de 1. A implementação do filtro passa-alta ideal é mostrada abaixo:"
   ]
  },
  {
   "cell_type": "code",
   "execution_count": null,
   "metadata": {
    "ExecuteTime": {
     "end_time": "2023-09-23T16:52:03.059387300Z",
     "start_time": "2023-09-23T16:52:03.056360900Z"
    },
    "collapsed": false
   },
   "outputs": [],
   "source": [
    "def high_pass_ideal_filter(img, cutoff):\n",
    "    return 1 - low_pass_ideal_filter(img, cutoff)"
   ]
  },
  {
   "cell_type": "markdown",
   "metadata": {
    "collapsed": false
   },
   "source": [
    "Para o filtro passa-alta butterworth, a equação é dada por:\n",
    "<br>\n",
    "<center>\n",
    "\n",
    "$H(u, v) = \\frac{1}{1 + (\\frac{D_0}{D(u, v)})^{2n}}$\n",
    "\n",
    "</center>\n",
    "\n",
    "onde n é a ordem do filtro e $D_0$ é a frequência de corte do filtro. A implementação do filtro passa-alta butterworth é mostrada abaixo:"
   ]
  },
  {
   "cell_type": "code",
   "execution_count": null,
   "metadata": {
    "ExecuteTime": {
     "end_time": "2023-09-23T16:52:03.065350Z",
     "start_time": "2023-09-23T16:52:03.061911900Z"
    },
    "collapsed": false
   },
   "outputs": [],
   "source": [
    "def high_pass_butterworth_filter(img, cutoff, order):\n",
    "    H = np.zeros(img.shape)\n",
    "\n",
    "    for i in range(img.shape[0]):\n",
    "        for j in range(img.shape[1]):\n",
    "            Dij = dij(img.shape, i, j)\n",
    "            H[i, j] = 1 / (1 + (cutoff / Dij) ** (2 * order))\n",
    "\n",
    "    return H"
   ]
  },
  {
   "cell_type": "markdown",
   "metadata": {
    "collapsed": false
   },
   "source": [
    "Para o filtro passa-alta gaussiano, a equação é dada por:\n",
    "<br>\n",
    "<center>\n",
    "\n",
    "$H(u, v) = 1 - e^{-\\frac{D(u, v)^2}{2D_0^2}}$\n",
    "\n",
    "</center>\n",
    "\n",
    "onde $D_0$ é a frequência de corte do filtro. Mediante análise, conclui-se que o filtro passa-alto gaussiano é o filtro passa-baixa gaussiano subtraído de 1. A implementação do filtro passa-alto gaussiano é mostrada abaixo:\n"
   ]
  },
  {
   "cell_type": "code",
   "execution_count": null,
   "metadata": {
    "ExecuteTime": {
     "end_time": "2023-09-23T16:52:03.070759800Z",
     "start_time": "2023-09-23T16:52:03.067229500Z"
    },
    "collapsed": false
   },
   "outputs": [],
   "source": [
    "def high_pass_gaussian_filter(img, cutoff):\n",
    "    return 1 - low_pass_gaussian_filter(img, cutoff)"
   ]
  },
  {
   "cell_type": "markdown",
   "metadata": {
    "collapsed": false
   },
   "source": [
    "The high pass filter factory is shown below:"
   ]
  },
  {
   "cell_type": "code",
   "execution_count": null,
   "metadata": {
    "ExecuteTime": {
     "end_time": "2023-09-23T16:52:03.075808400Z",
     "start_time": "2023-09-23T16:52:03.072271300Z"
    },
    "collapsed": false
   },
   "outputs": [],
   "source": [
    "def make_high_pass_filter(filter_type):\n",
    "    __name__ = filter_type\n",
    "\n",
    "    if filter_type == 'butterworth':\n",
    "        return high_pass_butterworth_filter\n",
    "    elif filter_type == 'gaussian':\n",
    "        return high_pass_gaussian_filter\n",
    "    elif filter_type == 'ideal':\n",
    "        return high_pass_ideal_filter\n",
    "    else:\n",
    "        raise Exception('Invalid filter type')"
   ]
  },
  {
   "cell_type": "code",
   "execution_count": null,
   "metadata": {
    "ExecuteTime": {
     "end_time": "2023-09-23T16:52:15.107825700Z",
     "start_time": "2023-09-23T16:52:03.076813700Z"
    },
    "collapsed": false
   },
   "outputs": [],
   "source": [
    "for filter_type in filter_types:\n",
    "    for img_path in os.listdir('./images'):\n",
    "        process_image(img_path, 25, make_high_pass_filter, filter_type)"
   ]
  },
  {
   "cell_type": "markdown",
   "metadata": {
    "collapsed": false
   },
   "source": [
    "4. Varie o parâmetro de frequência de corte no filtro passa-baixa criado na tarefa 2. Por exemplo, tome valores de D0 iguais a 0,01, 0,05, 0,5. A imagem inicial é igual à anterior. Visualize as imagens dos filtros e as imagens resultantes. Explique os resultados.\n",
    "- Primeiro foram aplicados os valores de frequência de corte 0.01, 0.05 e 0.5 no filtro passa-baixa ideal. Os resultados são mostrados abaixo:"
   ]
  },
  {
   "cell_type": "code",
   "execution_count": null,
   "metadata": {
    "ExecuteTime": {
     "end_time": "2023-09-23T16:52:51.553861700Z",
     "start_time": "2023-09-23T16:52:15.107825700Z"
    },
    "collapsed": false
   },
   "outputs": [],
   "source": [
    "for filter_type in filter_types:\n",
    "    for cutoff in [0.01, 0.05, 0.5]:\n",
    "        for img_path in os.listdir('./images'):\n",
    "            process_image(img_path, cutoff, make_low_pass_filter, filter_type)"
   ]
  },
  {
   "cell_type": "markdown",
   "metadata": {
    "collapsed": false
   },
   "source": [
    "5.  Efetue o mesmo que se pede no item 4, mas use o filtro passa-alta em vez do filtro passa-baixa."
   ]
  },
  {
   "cell_type": "code",
   "execution_count": null,
   "metadata": {
    "ExecuteTime": {
     "end_time": "2023-09-23T16:53:28.181854900Z",
     "start_time": "2023-09-23T16:52:51.556849300Z"
    },
    "collapsed": false
   },
   "outputs": [],
   "source": [
    "for filter_type in filter_types:\n",
    "    for cutoff in [0.01, 0.05, 0.5]:\n",
    "        for img_path in os.listdir('./images'):\n",
    "            process_image(img_path, cutoff, make_high_pass_filter, filter_type)"
   ]
  },
  {
   "cell_type": "markdown",
   "metadata": {
    "collapsed": false
   },
   "source": [
    "6. Além dos filtros passa-baixa e passa-alta também existe o filtro passa-banda? Explique seu funcionamento e aplique um filtro passa-banda na imagem.\n",
    "\n",
    "- O filtro passa-banda é um filtro que permite a passagem de frequências dentro de uma banda de frequência específica. O filtro passa-banda é composto por dois filtros passa-baixa, um com frequência de corte inferior e outro com frequência de corte superior. A imagem resultante é a subtração da imagem filtrada com a frequência de corte inferior da imagem filtrada com a frequência de corte superior. A implementação do filtro passa-banda é mostrada abaixo:\n"
   ]
  },
  {
   "cell_type": "code",
   "execution_count": null,
   "metadata": {
    "ExecuteTime": {
     "end_time": "2023-09-23T16:53:45.322679900Z",
     "start_time": "2023-09-23T16:53:28.182847Z"
    },
    "collapsed": false
   },
   "outputs": [],
   "source": [
    "def make_band_pass_filter(filter_type):\n",
    "    __name__ = filter_type\n",
    "\n",
    "    if filter_type == 'butterworth':\n",
    "        return lambda img, _, __: high_pass_butterworth_filter(img, cutoff_low,\n",
    "                                                               static_order) * low_pass_butterworth_filter(img,\n",
    "                                                                                                           cutoff_high,\n",
    "                                                                                                           static_order)\n",
    "    elif filter_type == 'gaussian':\n",
    "        return lambda img, _: high_pass_gaussian_filter(img, cutoff_low) * low_pass_gaussian_filter(img, cutoff_high)\n",
    "    elif filter_type == 'ideal':\n",
    "        return lambda img, _: high_pass_ideal_filter(img, cutoff_low) * low_pass_ideal_filter(img, cutoff_high)\n",
    "    else:\n",
    "        raise Exception('Invalid filter type')\n",
    "\n",
    "\n",
    "cutoff_low = 0.05\n",
    "cutoff_high = 0.1\n",
    "\n",
    "for filter_type in filter_types:\n",
    "    for img_path in os.listdir('./images'):\n",
    "        process_image(img_path, 25, make_band_pass_filter, filter_type)"
   ]
  }
 ],
 "metadata": {
  "kernelspec": {
   "display_name": "Python 3",
   "language": "python",
   "name": "python3"
  },
  "language_info": {
   "codemirror_mode": {
    "name": "ipython",
    "version": 2
   },
   "file_extension": ".py",
   "mimetype": "text/x-python",
   "name": "python",
   "nbconvert_exporter": "python",
   "pygments_lexer": "ipython2",
   "version": "2.7.6"
  }
 },
 "nbformat": 4,
 "nbformat_minor": 0
}
