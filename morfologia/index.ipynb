{
 "cells": [
  {
   "cell_type": "markdown",
   "metadata": {
    "collapsed": false
   },
   "source": [
    "<br><br>\n",
    "André Luiz da Silva Conde\n",
    "<center>\n",
    "\n",
    "# Morfologia\n",
    "\n",
    "</center>"
   ]
  },
  {
   "cell_type": "markdown",
   "metadata": {
    "collapsed": false
   },
   "source": [
    "1. Implemente a erosão/dilatação utilizando os seguintes elementos estruturantes e utilize todas as imagens"
   ]
  },
  {
   "cell_type": "code",
   "execution_count": null,
   "metadata": {
    "ExecuteTime": {
     "end_time": "2023-10-09T23:13:46.216175500Z",
     "start_time": "2023-10-09T23:13:45.608990700Z"
    },
    "collapsed": false
   },
   "outputs": [],
   "source": [
    "import os\n",
    "\n",
    "import cv2\n",
    "import matplotlib.pyplot as plt\n",
    "import numpy as np"
   ]
  },
  {
   "cell_type": "code",
   "execution_count": null,
   "metadata": {
    "ExecuteTime": {
     "end_time": "2023-10-09T23:13:46.222735600Z",
     "start_time": "2023-10-09T23:13:46.216175500Z"
    },
    "collapsed": false
   },
   "outputs": [],
   "source": [
    "def erosion(image: np.ndarray, element: np.ndarray, iterations: int = 1):\n",
    "    \"\"\"\n",
    "    The main porpoise of this function is centralize the logic of the erosion\n",
    "    :param image:\n",
    "    :param element:\n",
    "    :return:\n",
    "    \"\"\"\n",
    "    return cv2.erode(image, element, iterations=iterations)\n",
    "\n",
    "\n",
    "def dilation(image: np.ndarray, element: np.ndarray, iterations: int = 1):\n",
    "    \"\"\"\n",
    "    The main porpoise of this function is centralize the logic of the dilation\n",
    "    :param image:\n",
    "    :param element:\n",
    "    :return:\n",
    "    \"\"\"\n",
    "    return cv2.dilate(image, element, iterations=iterations)"
   ]
  },
  {
   "cell_type": "code",
   "execution_count": null,
   "metadata": {
    "ExecuteTime": {
     "end_time": "2023-10-09T23:13:46.230711400Z",
     "start_time": "2023-10-09T23:13:46.229250600Z"
    },
    "collapsed": false
   },
   "outputs": [],
   "source": [
    "def resolve(token: str):\n",
    "    \"\"\"\n",
    "    The main porpoise of this function is centralize the logic of the morphological operations\n",
    "    :param token:\n",
    "    :return:\n",
    "    \"\"\"\n",
    "\n",
    "    if token == '+':\n",
    "        return np.array([\n",
    "            [0, 1, 0],\n",
    "            [1, 1, 1],\n",
    "            [0, 1, 0]\n",
    "        ], dtype=np.uint8)\n",
    "    if token == '[]':\n",
    "        return np.array([\n",
    "            [1, 1, 1],\n",
    "            [1, 1, 1],\n",
    "            [1, 1, 1]\n",
    "        ], dtype=np.uint8)\n",
    "    if token == 'x':\n",
    "        return np.array([\n",
    "            [0, 0, 1, 0, 0],\n",
    "            [0, 1, 1, 1, 0],\n",
    "            [1, 1, 1, 1, 1],\n",
    "            [0, 1, 1, 1, 0],\n",
    "            [0, 0, 1, 0, 0]\n",
    "        ], dtype=np.uint8)\n",
    "    if token == 'I':\n",
    "        return np.array([\n",
    "            [0, 0, 1, 0, 0],\n",
    "            [0, 0, 1, 0, 0],\n",
    "            [0, 0, 1, 0, 0],\n",
    "            [0, 0, 1, 0, 0],\n",
    "            [0, 0, 1, 0, 0]\n",
    "        ], dtype=np.uint8)\n",
    "    raise Exception('Invalid token')"
   ]
  },
  {
   "cell_type": "code",
   "execution_count": null,
   "metadata": {
    "ExecuteTime": {
     "end_time": "2023-10-09T23:13:46.236747800Z",
     "start_time": "2023-10-09T23:13:46.230711400Z"
    },
    "collapsed": false
   },
   "outputs": [],
   "source": [
    "def operation(image: np.ndarray, token: str, op: str):\n",
    "    \"\"\"\n",
    "    The main porpoise of this function is centralize the logic of the morphological operations\n",
    "    :param image:\n",
    "    :param token:\n",
    "    :param op:\n",
    "    :return:\n",
    "    \"\"\"\n",
    "    element = resolve(token)\n",
    "\n",
    "    if op in globals():\n",
    "        return globals()[op](image, element)\n",
    "\n",
    "    raise Exception('Invalid operation')"
   ]
  },
  {
   "cell_type": "code",
   "execution_count": null,
   "metadata": {
    "ExecuteTime": {
     "end_time": "2023-10-09T23:13:51.123467900Z",
     "start_time": "2023-10-09T23:13:46.236747800Z"
    },
    "collapsed": false
   },
   "outputs": [],
   "source": [
    "for file in os.listdir('./images'):\n",
    "    image = np.array(cv2.imread(f'images/{file}', cv2.IMREAD_GRAYSCALE), dtype=np.uint8)\n",
    "    i = 0\n",
    "\n",
    "    for op in ['erosion', 'dilation']:\n",
    "        j = 0\n",
    "        for token in ['+', '[]', 'x', 'I']:\n",
    "            result = operation(image, token, op)\n",
    "\n",
    "            plt.subplot(2, 4, i + j + 1)\n",
    "            plt.imshow(result, cmap='gray')\n",
    "            plt.title(f'{op} ({token})')\n",
    "\n",
    "            i += 1\n",
    "    plt.show()"
   ]
  },
  {
   "cell_type": "markdown",
   "metadata": {
    "collapsed": false
   },
   "source": [
    "2. Implemente as operações de abertura e fechamento utilizando apenas o primeiro elemento estruturante do exercício acima.\n",
    "Considerando as imagens de b) a e) quais imagens seria mais interessante utilizar a abertura e quais o fechamento para remover os ruídos?"
   ]
  },
  {
   "cell_type": "code",
   "execution_count": null,
   "metadata": {
    "ExecuteTime": {
     "end_time": "2023-10-09T23:13:51.125790600Z",
     "start_time": "2023-10-09T23:13:51.124099800Z"
    },
    "collapsed": false
   },
   "outputs": [],
   "source": [
    "def opening(img: np.ndarray, element: np.ndarray, iterations: int = 1):\n",
    "    \"\"\"\n",
    "    The main porpoise of this function is centralize the logic of the opening\n",
    "    :param img:\n",
    "    :param element:\n",
    "    :return:\n",
    "    \"\"\"\n",
    "    return cv2.morphologyEx(img, cv2.MORPH_OPEN, element, iterations=iterations)\n",
    "\n",
    "\n",
    "def closing(img: np.ndarray, element: np.ndarray, iterations: int = 1):\n",
    "    \"\"\"\n",
    "    The main porpoise of this function is centralize the logic of the closing\n",
    "    :param img:\n",
    "    :param element:\n",
    "    :return:\n",
    "    \"\"\"\n",
    "    return cv2.morphologyEx(img, cv2.MORPH_CLOSE, element, iterations=iterations)"
   ]
  },
  {
   "cell_type": "code",
   "execution_count": null,
   "metadata": {
    "ExecuteTime": {
     "end_time": "2023-10-09T23:13:53.287790300Z",
     "start_time": "2023-10-09T23:13:51.129123200Z"
    },
    "collapsed": false
   },
   "outputs": [],
   "source": [
    "for file in os.listdir('./images'):\n",
    "    img = cv2.imread(f'./images/{file}', cv2.IMREAD_GRAYSCALE)\n",
    "    i = 1\n",
    "\n",
    "    plt.subplot(1, 3, i)\n",
    "    plt.imshow(img, cmap='gray')\n",
    "    plt.title(f'Original ({file})')\n",
    "\n",
    "    for op in ['opening', 'closing']:\n",
    "        result = operation(img, '+', op)\n",
    "\n",
    "        plt.subplot(1, 3, i + 1)\n",
    "        plt.imshow(result, cmap='gray')\n",
    "        plt.title(f'{op} ({file})')\n",
    "\n",
    "        i += 1\n",
    "    plt.show()"
   ]
  },
  {
   "cell_type": "markdown",
   "metadata": {
    "collapsed": false
   },
   "source": [
    "Observando o resultado obtido, podemos concluir que a abertura é mais interessante para remover os ruídos externos as bordas\n",
    "e o fechamento é mais interessante para remover os ruídos internos as bordas."
   ]
  },
  {
   "cell_type": "markdown",
   "metadata": {
    "collapsed": false
   },
   "source": [
    "3. Qual sequência de operações poderia ser realizadas para que a imagem f) ficasse apenas com um retângulo branco ao centro? Implemente essas operações."
   ]
  },
  {
   "cell_type": "markdown",
   "metadata": {
    "collapsed": false
   },
   "source": [
    "Aplicando abertura para remover os ruídos externos as bordas e depois dilatação para remover os ruídos internos as bordas."
   ]
  },
  {
   "cell_type": "code",
   "execution_count": null,
   "metadata": {
    "ExecuteTime": {
     "end_time": "2023-10-09T23:13:53.661685300Z",
     "start_time": "2023-10-09T23:13:53.294082600Z"
    },
    "collapsed": false
   },
   "outputs": [],
   "source": [
    "img = cv2.imread('./images/f.tif', cv2.IMREAD_GRAYSCALE).astype(np.uint8)\n",
    "\n",
    "element = np.array([\n",
    "    [1, 1, 1, 1, 1, 1, 1],\n",
    "    [1, 1, 1, 1, 1, 1, 1],\n",
    "    [1, 1, 1, 1, 1, 1, 1],\n",
    "    [1, 1, 1, 1, 1, 1, 1],\n",
    "    [1, 1, 1, 1, 1, 1, 1],\n",
    "    [1, 1, 1, 1, 1, 1, 1],\n",
    "    [1, 1, 1, 1, 1, 1, 1],\n",
    "], dtype=np.uint8)\n",
    "\n",
    "result = dilation(opening(img, element, 20), element, 5)\n",
    "\n",
    "plt.subplot(1, 2, 1)\n",
    "plt.imshow(img, cmap='gray')\n",
    "plt.title('Original')\n",
    "\n",
    "plt.subplot(1, 2, 2)\n",
    "plt.imshow(result, cmap='gray')\n",
    "plt.title('Result')\n",
    "\n",
    "plt.show()"
   ]
  },
  {
   "cell_type": "markdown",
   "metadata": {
    "collapsed": false
   },
   "source": [
    "4. Qual(is) operações seriam necessárias para melhorar a imagem g)? Implemente essa(s) operação(ões)"
   ]
  },
  {
   "cell_type": "markdown",
   "metadata": {
    "collapsed": false
   },
   "source": [
    "A imagem (g) é constituída de textos, então a operação mais interessante seria a dilatação para engrossar os traços."
   ]
  },
  {
   "cell_type": "code",
   "execution_count": null,
   "metadata": {
    "ExecuteTime": {
     "end_time": "2023-10-09T23:13:53.878185300Z",
     "start_time": "2023-10-09T23:13:53.666577Z"
    },
    "collapsed": false
   },
   "outputs": [],
   "source": [
    "img = cv2.imread('./images/g.tif', cv2.IMREAD_GRAYSCALE).astype(np.uint8)\n",
    "\n",
    "result = dilation(img, resolve('[]'), 1)\n",
    "\n",
    "plt.subplot(1, 2, 1)\n",
    "plt.imshow(img, cmap='gray')\n",
    "plt.title('Original')\n",
    "\n",
    "plt.subplot(1, 2, 2)\n",
    "plt.imshow(result, cmap='gray')\n",
    "plt.title('Result')\n",
    "\n",
    "plt.show()"
   ]
  },
  {
   "cell_type": "markdown",
   "metadata": {
    "collapsed": false
   },
   "source": [
    "5. Quais operações seriam necessárias para extrair apenas a borda da imagem h)? Implemente essas operações"
   ]
  },
  {
   "cell_type": "markdown",
   "metadata": {
    "collapsed": false
   },
   "source": [
    "Utilizando a erosão para remover os traços internos e depois subtraindo da imagem original."
   ]
  },
  {
   "cell_type": "code",
   "execution_count": null,
   "metadata": {
    "ExecuteTime": {
     "end_time": "2023-10-09T23:13:54.068827100Z",
     "start_time": "2023-10-09T23:13:53.878185300Z"
    },
    "collapsed": false
   },
   "outputs": [],
   "source": [
    "img = cv2.imread('./images/h.tif', cv2.IMREAD_GRAYSCALE).astype(np.uint8)\n",
    "\n",
    "result = img - erosion(img, resolve('[]'), 1)\n",
    "\n",
    "plt.subplot(1, 2, 1)\n",
    "plt.imshow(img, cmap='gray')\n",
    "plt.title('Original')\n",
    "\n",
    "plt.subplot(1, 2, 2)\n",
    "plt.imshow(result, cmap='gray')\n",
    "plt.title('Result')\n",
    "\n",
    "plt.show()"
   ]
  }
 ],
 "metadata": {
  "kernelspec": {
   "display_name": "Python 3",
   "language": "python",
   "name": "python3"
  },
  "language_info": {
   "codemirror_mode": {
    "name": "ipython",
    "version": 2
   },
   "file_extension": ".py",
   "mimetype": "text/x-python",
   "name": "python",
   "nbconvert_exporter": "python",
   "pygments_lexer": "ipython2",
   "version": "2.7.6"
  }
 },
 "nbformat": 4,
 "nbformat_minor": 0
}
