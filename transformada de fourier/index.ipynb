{
 "cells": [
  {
   "cell_type": "markdown",
   "metadata": {
    "collapsed": false
   },
   "source": [
    "André Luiz da Silva Conde\n",
    "\n",
    "<center>\n",
    "\n",
    "# Tranformada de Fourier\n",
    "\n",
    "</center>"
   ]
  },
  {
   "cell_type": "code",
   "execution_count": null,
   "metadata": {
    "ExecuteTime": {
     "end_time": "2023-09-18T17:39:54.243842Z",
     "start_time": "2023-09-18T17:39:54.053605700Z"
    },
    "collapsed": false
   },
   "outputs": [],
   "source": [
    "import os\n",
    "\n",
    "import numpy as np\n",
    "from PIL import Image\n",
    "\n",
    "image_names = os.listdir('./images')\n",
    "\n",
    "# open all images in the folder ./images\n",
    "images = [Image.open('./images/' + img).convert('L') for img in image_names]\n",
    "\n",
    "\n",
    "def get_square(h, w):\n",
    "    \"\"\"\n",
    "    A helper to get a square image with a square in the middle.\n",
    "\n",
    "    :param h:  height\n",
    "    :param w:  width\n",
    "    :return:\n",
    "    \"\"\"\n",
    "    zeros = np.zeros((h, w))\n",
    "    zeros[int(h / 2) - 25:int(h / 2) + 25, int(w / 2) - 25:int(w / 2) + 25] = 1\n",
    "    return zeros"
   ]
  },
  {
   "cell_type": "markdown",
   "metadata": {
    "collapsed": false
   },
   "source": [
    "\n",
    "1. Implementar a Transformada de Fourier (Utilize a biblioteca de sua preferência)"
   ]
  },
  {
   "cell_type": "code",
   "execution_count": null,
   "metadata": {
    "ExecuteTime": {
     "end_time": "2023-09-18T17:39:54.250966600Z",
     "start_time": "2023-09-18T17:39:54.249440Z"
    },
    "collapsed": false
   },
   "outputs": [],
   "source": [
    "def fourier_transform(img):\n",
    "    f = np.fft.fft2(img)\n",
    "    f_shift = np.fft.fftshift(f)\n",
    "    fourier = 20 * np.log(np.abs(f_shift + 1))\n",
    "    angle = np.angle(f_shift)\n",
    "    return fourier, angle"
   ]
  },
  {
   "cell_type": "markdown",
   "metadata": {
    "collapsed": false
   },
   "source": [
    "2. Implementar a Transformada Inversa de Fourier (Utilize a biblioteca de sua preferência)"
   ]
  },
  {
   "cell_type": "code",
   "execution_count": null,
   "metadata": {
    "ExecuteTime": {
     "end_time": "2023-09-18T17:39:54.256007700Z",
     "start_time": "2023-09-18T17:39:54.254478800Z"
    },
    "collapsed": false
   },
   "outputs": [],
   "source": [
    "def inverse_fourier_transform(img):\n",
    "    f = np.fft.ifftshift(img)\n",
    "    f = np.fft.ifft2(f)\n",
    "    return np.abs(f)"
   ]
  },
  {
   "cell_type": "markdown",
   "metadata": {
    "collapsed": false
   },
   "source": [
    "3. Plotar o espectro e fase."
   ]
  },
  {
   "cell_type": "code",
   "execution_count": null,
   "metadata": {
    "ExecuteTime": {
     "end_time": "2023-09-18T17:39:57.269922700Z",
     "start_time": "2023-09-18T17:39:54.256007700Z"
    },
    "collapsed": false
   },
   "outputs": [],
   "source": [
    "import matplotlib.pyplot as plt\n",
    "\n",
    "for index in range(len(images)):\n",
    "    img = images[index]\n",
    "    img_fourier, img_phase = fourier_transform(img)\n",
    "\n",
    "    fig, axis = plt.subplots(1, 3, figsize=(15, 5))\n",
    "    axis[0].imshow(img, cmap='gray')\n",
    "    axis[0].set_title('Original')\n",
    "\n",
    "    axis[1].imshow(img_fourier, cmap='gray')\n",
    "    axis[1].set_title('Fourier da imagem ' + image_names[index] + ' (Magnitude)')\n",
    "\n",
    "    axis[2].imshow(img_phase, cmap='gray')\n",
    "    axis[2].set_title('Phase da imagem ' + image_names[index])"
   ]
  },
  {
   "cell_type": "markdown",
   "metadata": {
    "collapsed": false
   },
   "source": [
    "4. Plotar o espectro 3D (Pesquisar formas de visualização 3D em Python)"
   ]
  },
  {
   "cell_type": "code",
   "execution_count": null,
   "metadata": {
    "ExecuteTime": {
     "end_time": "2023-09-18T17:40:00.359082300Z",
     "start_time": "2023-09-18T17:39:57.268913500Z"
    },
    "collapsed": false
   },
   "outputs": [],
   "source": [
    "#plot 3d of the fourier transform\n",
    "for index in range(len(images)):\n",
    "    img = images[index]\n",
    "    img_fourier, img_phase = fourier_transform(img)\n",
    "\n",
    "    fig = plt.figure(figsize=(15, 15))\n",
    "    ax = fig.add_subplot(221, projection='3d')\n",
    "    x = np.arange(0, img_fourier.shape[0], 1)\n",
    "    y = np.arange(0, img_fourier.shape[1], 1)\n",
    "    X, Y = np.meshgrid(x, y)\n",
    "    Z = img_fourier[X, Y]\n",
    "\n",
    "    ax.plot_surface(X, Y, Z, cmap='viridis', edgecolor='none')\n",
    "    ax.set_title('Fourier da imagem ' + image_names[index])\n",
    "\n",
    "\n",
    "    ax = fig.add_subplot(222, projection='3d')\n",
    "    ax.plot_surface(X, Y, Z, cmap='viridis', edgecolor='none')\n",
    "    ax.view_init(90, 0)\n",
    "    ax.set_title('Fourier da imagem ' + image_names[index] + ' (Vista superior)')\n",
    "\n",
    "    plt.show()"
   ]
  }
 ],
 "metadata": {
  "kernelspec": {
   "display_name": "Python 3",
   "language": "python",
   "name": "python3"
  },
  "language_info": {
   "codemirror_mode": {
    "name": "ipython",
    "version": 2
   },
   "file_extension": ".py",
   "mimetype": "text/x-python",
   "name": "python",
   "nbconvert_exporter": "python",
   "pygments_lexer": "ipython2",
   "version": "2.7.6"
  }
 },
 "nbformat": 4,
 "nbformat_minor": 0
}
