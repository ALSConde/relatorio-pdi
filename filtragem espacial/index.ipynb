{
 "cells": [
  {
   "cell_type": "markdown",
   "metadata": {
    "collapsed": false
   },
   "source": [
    "<br/>\n",
    "\n",
    "André Luiz da Silva Conde\n",
    "\n",
    "# <center> Envio Atividades - Filtragem Espacial <center/>"
   ]
  },
  {
   "cell_type": "markdown",
   "metadata": {
    "collapsed": false
   },
   "source": [
    "# 1. Implementar a operação de convolução."
   ]
  },
  {
   "cell_type": "code",
   "execution_count": null,
   "metadata": {
    "ExecuteTime": {
     "end_time": "2023-09-04T23:17:13.012756500Z",
     "start_time": "2023-09-04T23:17:12.722059800Z"
    },
    "collapsed": false
   },
   "outputs": [],
   "source": [
    "import matplotlib.pyplot as plt\n",
    "import numpy as np\n",
    "from PIL import Image\n",
    "\n",
    "images = [np.array(Image.open(img)) for img in ['lena_gray_512.tif', 'cameraman.tif', 'biel.png']]\n",
    "\n",
    "\n",
    "def plot_result(original, transformed, *args):\n",
    "    fig, axs = plt.subplots(1, 2, figsize=(15, 15))\n",
    "    axs[0].imshow(original, cmap='gray')\n",
    "    axs[0].set_title('Original')\n",
    "    axs[1].imshow(transformed, cmap='gray')\n",
    "    axs[1].set_title('Transformed')\n",
    "\n",
    "\n",
    "def process(img, transformation, *args):\n",
    "    transformed = transformation(img, *args)\n",
    "    plot_result(img, transformed, *args)"
   ]
  },
  {
   "cell_type": "markdown",
   "metadata": {
    "collapsed": false
   },
   "source": [
    "## Convolução manual"
   ]
  },
  {
   "cell_type": "code",
   "execution_count": null,
   "metadata": {
    "ExecuteTime": {
     "end_time": "2023-09-04T23:17:17.432183600Z",
     "start_time": "2023-09-04T23:17:12.732917400Z"
    },
    "collapsed": false
   },
   "outputs": [],
   "source": [
    "def convolve(signal, kernel):\n",
    "    output_rows = signal.shape[0] + kernel.shape[0] - 1\n",
    "    output_cols = signal.shape[1] + kernel.shape[1] - 1\n",
    "    output = [[0 for j in range(output_cols)] for i in range(output_rows)]\n",
    "    kernel = kernel[::-1, ::-1]\n",
    "    padded_signal = [[0 for j in range(signal.shape[1] + 2 * (kernel.shape[1] - 1))] for i in\n",
    "                     range(signal.shape[0] + 2 * (kernel.shape[0] - 1))]\n",
    "    for i in range(signal.shape[0]):\n",
    "        for j in range(signal.shape[1]):\n",
    "            padded_signal[i + kernel.shape[0] - 1][j + kernel.shape[1] - 1] = signal[i][j]\n",
    "    for i in range(output_rows):\n",
    "        for j in range(output_cols):\n",
    "            for k in range(kernel.shape[0]):\n",
    "                for l in range(kernel.shape[1]):\n",
    "                    output[i][j] += padded_signal[i + k][j + l] * kernel[k][l]\n",
    "    return output\n",
    "\n",
    "\n",
    "for img in images:\n",
    "    process(img, convolve, np.array([[0, 1, 0],\n",
    "                                     [1, -4, 1],\n",
    "                                     [0, 1, 0]]))"
   ]
  },
  {
   "cell_type": "markdown",
   "metadata": {
    "collapsed": false
   },
   "source": [
    "## Utilizando scipy"
   ]
  },
  {
   "cell_type": "code",
   "execution_count": null,
   "metadata": {
    "ExecuteTime": {
     "end_time": "2023-09-04T23:17:18.816335200Z",
     "start_time": "2023-09-04T23:17:17.432183600Z"
    },
    "collapsed": false
   },
   "outputs": [],
   "source": [
    "def scipy_convolve(img, kernel):\n",
    "    from scipy.signal import convolve2d\n",
    "    return convolve2d(img, kernel, mode='same', boundary='fill', fillvalue=0)\n",
    "\n",
    "\n",
    "for img in images:\n",
    "    process(img, scipy_convolve, np.array([[0, 1, 0],\n",
    "                                           [1, -4, 1],\n",
    "                                           [0, 1, 0]]))"
   ]
  },
  {
   "cell_type": "markdown",
   "metadata": {
    "collapsed": false
   },
   "source": [
    "## Utilizando openCV"
   ]
  },
  {
   "cell_type": "code",
   "execution_count": null,
   "metadata": {
    "ExecuteTime": {
     "end_time": "2023-09-04T23:17:20.160743400Z",
     "start_time": "2023-09-04T23:17:18.823945800Z"
    },
    "collapsed": false
   },
   "outputs": [],
   "source": [
    "\n",
    "\n",
    "def opencv_convolve(img, kernel):\n",
    "    return cv2.filter2D(img, -1, kernel)\n",
    "\n",
    "\n",
    "for image in images:\n",
    "    process(image, opencv_convolve, np.array([[0, 1, 0],\n",
    "                                              [1, -4, 1],\n",
    "                                              [0, 1, 0]]))"
   ]
  },
  {
   "cell_type": "markdown",
   "metadata": {
    "collapsed": false
   },
   "source": [
    "# 2. Utilizando OPENCV, scipy função convolve e implementação manual.\n",
    "Implementar seguintes máscaras:\n",
    "- Média\n",
    "- Guassiano\n",
    "- Laplaciano\n",
    "- Sobel X\n",
    "- Sobel Y\n",
    "- Gradiente (Sobel X + Sobel Y)\n",
    "- Laplaciano somado a imagem original\n",
    "\n",
    "## Utilizando o a mascara da média com openCV"
   ]
  },
  {
   "cell_type": "code",
   "execution_count": null,
   "metadata": {
    "ExecuteTime": {
     "end_time": "2023-09-04T23:17:20.160743400Z",
     "start_time": "2023-09-04T23:17:20.160743400Z"
    },
    "collapsed": false
   },
   "outputs": [],
   "source": [
    "def get_identity_kernel():\n",
    "    return np.array((\n",
    "        [0, 0, 0],\n",
    "        [0, 1, 0],\n",
    "        [0, 0, 0]), dtype=\"int\")\n",
    "\n",
    "\n",
    "def get_mean_kernel():\n",
    "    return np.array((\n",
    "        [0.1111, 0.1111, 0.1111],\n",
    "        [0.1111, 0.1111, 0.1111],\n",
    "        [0.1111, 0.1111, 0.1111]), dtype=\"float\")\n",
    "\n",
    "\n",
    "def get_gaussian_kernel():\n",
    "    return np.array((\n",
    "        [0.0625, 0.125, 0.0625],\n",
    "        [0.1250, 0.250, 0.1250],\n",
    "        [0.0625, 0.125, 0.0625]), dtype=\"float\")\n",
    "\n",
    "\n",
    "def get_laplacian_kernel():\n",
    "    return np.array((\n",
    "        [0, 1, 0],\n",
    "        [1, -4, 1],\n",
    "        [0, 1, 0]), dtype=\"int\")\n",
    "\n",
    "\n",
    "def get_sobel_x_kernel():\n",
    "    return np.array((\n",
    "        [-1, 0, 1],\n",
    "        [-2, 0, 2],\n",
    "        [-1, 0, 1]), dtype=\"int\")\n",
    "\n",
    "\n",
    "def get_sobel_y_kernel():\n",
    "    return np.array((\n",
    "        [-1, -2, -1],\n",
    "        [0, 0, 0],\n",
    "        [1, 2, 1]), dtype=\"int\")\n",
    "\n",
    "\n",
    "def get_laplacian_sum_kernel(img):\n",
    "    return np.array((\n",
    "        [0, 1, 0],\n",
    "        [1, -4, 1],\n",
    "        [0, 1, 0]), dtype=\"int\")"
   ]
  },
  {
   "cell_type": "code",
   "execution_count": null,
   "metadata": {
    "ExecuteTime": {
     "end_time": "2023-09-04T23:17:21.618278300Z",
     "start_time": "2023-09-04T23:17:20.160743400Z"
    },
    "collapsed": false
   },
   "outputs": [],
   "source": [
    "import cv2\n",
    "\n",
    "for img in images:\n",
    "    process(img, opencv_convolve, get_mean_kernel())"
   ]
  },
  {
   "cell_type": "markdown",
   "metadata": {
    "collapsed": false
   },
   "source": [
    "## Utilizando o a mascara da média com scipy"
   ]
  },
  {
   "cell_type": "code",
   "execution_count": null,
   "metadata": {
    "ExecuteTime": {
     "end_time": "2023-09-04T23:17:22.963787500Z",
     "start_time": "2023-09-04T23:17:21.618278300Z"
    },
    "collapsed": false
   },
   "outputs": [],
   "source": [
    "for img in images:\n",
    "    process(img, scipy_convolve, get_mean_kernel())"
   ]
  },
  {
   "cell_type": "markdown",
   "metadata": {
    "collapsed": false
   },
   "source": [
    "## Utilizando o a mascara da média com implementação manual"
   ]
  },
  {
   "cell_type": "code",
   "execution_count": null,
   "metadata": {
    "ExecuteTime": {
     "end_time": "2023-09-04T23:17:27.495872500Z",
     "start_time": "2023-09-04T23:17:23.058488900Z"
    },
    "collapsed": false
   },
   "outputs": [],
   "source": [
    "for img in images:\n",
    "    process(img, convolve, get_mean_kernel())\n"
   ]
  },
  {
   "cell_type": "markdown",
   "metadata": {
    "collapsed": false
   },
   "source": [
    "## Utilizando o a mascara gaussiana com openCV"
   ]
  },
  {
   "cell_type": "code",
   "execution_count": null,
   "metadata": {
    "ExecuteTime": {
     "end_time": "2023-09-04T23:17:28.808323300Z",
     "start_time": "2023-09-04T23:17:27.495872500Z"
    },
    "collapsed": false
   },
   "outputs": [],
   "source": [
    "for img in images:\n",
    "    process(img, opencv_convolve, get_gaussian_kernel())"
   ]
  },
  {
   "cell_type": "markdown",
   "metadata": {
    "collapsed": false
   },
   "source": [
    "## Utilizando o a mascara gaussiana com scipy"
   ]
  },
  {
   "cell_type": "code",
   "execution_count": null,
   "metadata": {
    "ExecuteTime": {
     "end_time": "2023-09-04T23:17:30.282489300Z",
     "start_time": "2023-09-04T23:17:28.808323300Z"
    },
    "collapsed": false
   },
   "outputs": [],
   "source": [
    "for img in images:\n",
    "    process(img, scipy_convolve, get_gaussian_kernel())"
   ]
  },
  {
   "cell_type": "markdown",
   "metadata": {
    "collapsed": false
   },
   "source": [
    "## Utilizando o a mascara gaussiana com implementação manual"
   ]
  },
  {
   "cell_type": "code",
   "execution_count": null,
   "metadata": {
    "ExecuteTime": {
     "end_time": "2023-09-04T23:17:34.813804700Z",
     "start_time": "2023-09-04T23:17:30.281964700Z"
    },
    "collapsed": false
   },
   "outputs": [],
   "source": [
    "for img in images:\n",
    "    process(img, convolve, get_gaussian_kernel())"
   ]
  },
  {
   "cell_type": "markdown",
   "metadata": {
    "collapsed": false
   },
   "source": [
    "## Utilizando o a mascara laplaciana com openCV"
   ]
  },
  {
   "cell_type": "code",
   "execution_count": null,
   "metadata": {
    "ExecuteTime": {
     "end_time": "2023-09-04T23:17:36.207195900Z",
     "start_time": "2023-09-04T23:17:34.813804700Z"
    },
    "collapsed": false
   },
   "outputs": [],
   "source": [
    "for img in images:\n",
    "    process(img, opencv_convolve, get_laplacian_kernel())"
   ]
  },
  {
   "cell_type": "markdown",
   "metadata": {
    "collapsed": false
   },
   "source": [
    "## Utilizando o a mascara laplaciana com scipy"
   ]
  },
  {
   "cell_type": "code",
   "execution_count": null,
   "metadata": {
    "ExecuteTime": {
     "end_time": "2023-09-04T23:17:37.567745600Z",
     "start_time": "2023-09-04T23:17:36.207195900Z"
    },
    "collapsed": false
   },
   "outputs": [],
   "source": [
    "for img in images:\n",
    "    process(img, scipy_convolve, get_laplacian_kernel())"
   ]
  },
  {
   "cell_type": "markdown",
   "metadata": {
    "collapsed": false
   },
   "source": [
    "## Utilizando o a mascara laplaciana com implementação manual"
   ]
  },
  {
   "cell_type": "code",
   "execution_count": null,
   "metadata": {
    "ExecuteTime": {
     "end_time": "2023-09-04T23:17:42.271280Z",
     "start_time": "2023-09-04T23:17:37.567745600Z"
    },
    "collapsed": false
   },
   "outputs": [],
   "source": [
    "for img in images:\n",
    "    process(img, convolve, get_laplacian_kernel())"
   ]
  },
  {
   "cell_type": "markdown",
   "metadata": {
    "collapsed": false
   },
   "source": [
    "## Utilizando o a mascara sobel x com openCV"
   ]
  },
  {
   "cell_type": "code",
   "execution_count": null,
   "metadata": {
    "ExecuteTime": {
     "end_time": "2023-09-04T23:17:43.579779900Z",
     "start_time": "2023-09-04T23:17:42.271280Z"
    },
    "collapsed": false
   },
   "outputs": [],
   "source": [
    "for img in images:\n",
    "    process(img, opencv_convolve, get_sobel_x_kernel())"
   ]
  },
  {
   "cell_type": "markdown",
   "metadata": {
    "collapsed": false
   },
   "source": [
    "## Utilizando o a mascara sobel x com scipy"
   ]
  },
  {
   "cell_type": "code",
   "execution_count": null,
   "metadata": {
    "ExecuteTime": {
     "end_time": "2023-09-04T23:17:44.890280400Z",
     "start_time": "2023-09-04T23:17:43.579779900Z"
    },
    "collapsed": false
   },
   "outputs": [],
   "source": [
    "for img in images:\n",
    "    process(img, scipy_convolve, get_sobel_x_kernel())"
   ]
  },
  {
   "cell_type": "markdown",
   "metadata": {
    "collapsed": false
   },
   "source": [
    "## Utilizando o a mascara sobel x com implementação manual"
   ]
  },
  {
   "cell_type": "code",
   "execution_count": null,
   "metadata": {
    "ExecuteTime": {
     "end_time": "2023-09-04T23:17:49.418269800Z",
     "start_time": "2023-09-04T23:17:44.890280400Z"
    },
    "collapsed": false
   },
   "outputs": [],
   "source": [
    "for img in images:\n",
    "    process(img, convolve, get_sobel_x_kernel())"
   ]
  },
  {
   "cell_type": "markdown",
   "metadata": {
    "collapsed": false
   },
   "source": [
    "## Utilizando o a mascara sobel y com openCV"
   ]
  },
  {
   "cell_type": "code",
   "execution_count": null,
   "metadata": {
    "ExecuteTime": {
     "end_time": "2023-09-04T23:17:50.731556300Z",
     "start_time": "2023-09-04T23:17:49.418269800Z"
    },
    "collapsed": false
   },
   "outputs": [],
   "source": [
    "for img in images:\n",
    "    process(img, opencv_convolve, get_sobel_y_kernel())"
   ]
  },
  {
   "cell_type": "markdown",
   "metadata": {
    "collapsed": false
   },
   "source": [
    "## Utilizando o a mascara sobel y com scipy"
   ]
  },
  {
   "cell_type": "code",
   "execution_count": null,
   "metadata": {
    "ExecuteTime": {
     "end_time": "2023-09-04T23:17:52.190372300Z",
     "start_time": "2023-09-04T23:17:50.731556300Z"
    },
    "collapsed": false
   },
   "outputs": [],
   "source": [
    "for img in images:\n",
    "    process(img, scipy_convolve, get_sobel_y_kernel())"
   ]
  },
  {
   "cell_type": "markdown",
   "metadata": {
    "collapsed": false
   },
   "source": [
    "## Utilizando o a mascara sobel y com implementação manual"
   ]
  },
  {
   "cell_type": "code",
   "execution_count": null,
   "metadata": {
    "ExecuteTime": {
     "end_time": "2023-09-04T23:17:56.713732300Z",
     "start_time": "2023-09-04T23:17:52.190372300Z"
    },
    "collapsed": false
   },
   "outputs": [],
   "source": [
    "for img in images:\n",
    "    process(img, convolve, get_sobel_y_kernel())"
   ]
  },
  {
   "cell_type": "markdown",
   "metadata": {
    "collapsed": false
   },
   "source": [
    "## Utilizando o a mascara gradiente com openCV"
   ]
  },
  {
   "cell_type": "code",
   "execution_count": null,
   "metadata": {
    "ExecuteTime": {
     "end_time": "2023-09-04T23:17:58.063149400Z",
     "start_time": "2023-09-04T23:17:56.713732300Z"
    },
    "collapsed": false
   },
   "outputs": [],
   "source": [
    "for img in images:\n",
    "    process(img,\n",
    "            lambda img:\n",
    "            opencv_convolve(img, get_sobel_x_kernel()) +\n",
    "            opencv_convolve(img, get_sobel_y_kernel())\n",
    "            )"
   ]
  },
  {
   "cell_type": "markdown",
   "metadata": {
    "collapsed": false
   },
   "source": [
    "## Utilizando a mascara gradiente com scipy"
   ]
  },
  {
   "cell_type": "code",
   "execution_count": null,
   "metadata": {
    "ExecuteTime": {
     "end_time": "2023-09-04T23:17:59.422464200Z",
     "start_time": "2023-09-04T23:17:58.060546200Z"
    },
    "collapsed": false
   },
   "outputs": [],
   "source": [
    "for img in images:\n",
    "    process(img,\n",
    "            lambda img:\n",
    "            scipy_convolve(img, get_sobel_x_kernel()) +\n",
    "            scipy_convolve(img, get_sobel_y_kernel())\n",
    "            )"
   ]
  },
  {
   "cell_type": "markdown",
   "metadata": {
    "collapsed": false
   },
   "source": [
    "## Utilizando o a mascara gradiente com implementação manual"
   ]
  },
  {
   "cell_type": "code",
   "execution_count": null,
   "metadata": {
    "ExecuteTime": {
     "end_time": "2023-09-04T23:18:07.363376200Z",
     "start_time": "2023-09-04T23:17:59.422464200Z"
    },
    "collapsed": false
   },
   "outputs": [],
   "source": [
    "def gradiente_convolve(img):\n",
    "    img1 = np.array(convolve(img, get_sobel_x_kernel()))\n",
    "    img2 = np.array(convolve(img, get_sobel_y_kernel()))\n",
    "\n",
    "    return img1 + img2\n",
    "\n",
    "\n",
    "for img in images:\n",
    "    process(img, gradiente_convolve)"
   ]
  },
  {
   "cell_type": "markdown",
   "metadata": {
    "collapsed": false
   },
   "source": [
    "## Utilizando o a mascara laplaciana somada a imagem original com openCV"
   ]
  },
  {
   "cell_type": "code",
   "execution_count": null,
   "metadata": {
    "ExecuteTime": {
     "end_time": "2023-09-04T23:18:08.736521300Z",
     "start_time": "2023-09-04T23:18:07.363376200Z"
    },
    "collapsed": false
   },
   "outputs": [],
   "source": [
    "for img in images:\n",
    "    process(img, opencv_convolve, get_laplacian_sum_kernel(img))"
   ]
  },
  {
   "cell_type": "markdown",
   "metadata": {
    "collapsed": false
   },
   "source": [
    "## Utilizando o a mascara laplaciana somada a imagem original com scipy"
   ]
  },
  {
   "cell_type": "code",
   "execution_count": null,
   "metadata": {
    "ExecuteTime": {
     "end_time": "2023-09-04T23:18:10.068018700Z",
     "start_time": "2023-09-04T23:18:08.736521300Z"
    },
    "collapsed": false
   },
   "outputs": [],
   "source": [
    "for img in images:\n",
    "    process(img, scipy_convolve, get_laplacian_sum_kernel(img))"
   ]
  },
  {
   "cell_type": "markdown",
   "metadata": {
    "collapsed": false
   },
   "source": [
    "## Utilizando o a mascara laplaciana somada a imagem original com implementação manual"
   ]
  },
  {
   "cell_type": "code",
   "execution_count": null,
   "metadata": {
    "ExecuteTime": {
     "end_time": "2023-09-04T23:18:14.615481200Z",
     "start_time": "2023-09-04T23:18:10.068018700Z"
    },
    "collapsed": false
   },
   "outputs": [],
   "source": [
    "for img in images:\n",
    "    process(img, convolve, get_laplacian_sum_kernel(img))"
   ]
  }
 ],
 "metadata": {
  "kernelspec": {
   "display_name": "Python 3",
   "language": "python",
   "name": "python3"
  },
  "language_info": {
   "codemirror_mode": {
    "name": "ipython",
    "version": 2
   },
   "file_extension": ".py",
   "mimetype": "text/x-python",
   "name": "python",
   "nbconvert_exporter": "python",
   "pygments_lexer": "ipython2",
   "version": "2.7.6"
  }
 },
 "nbformat": 4,
 "nbformat_minor": 0
}
