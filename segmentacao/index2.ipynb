{
 "cells": [
  {
   "cell_type": "markdown",
   "metadata": {
    "collapsed": false
   },
   "source": [
    "André Luiz da Silva Conde\n",
    "<br>\n",
    "\n",
    "<center>\n",
    "\n",
    "# Atividades - Segmentação Parte 1\n",
    "\n",
    "<center>"
   ]
  },
  {
   "cell_type": "markdown",
   "metadata": {
    "collapsed": false
   },
   "source": [
    "#### 1. Implementar detector de ponto conforme slide 17.\n",
    "\n",
    "Detecção de pontos: uso de derivadas de segunda ordem (laplaciano):\n",
    "\n",
    "matriz laplaciana:\n",
    "\n",
    "$$\n",
    "\\begin{bmatrix}\n",
    "0 & -1 & 0 \\\\\n",
    "-1 & -4 & -1 \\\\\n",
    "0 & -1 & 0\n",
    "\\end{bmatrix}\n",
    "$$\n",
    "\n",
    "ou use:\n",
    "\n",
    "$$\n",
    "\\begin{bmatrix}\n",
    "-1 & -1 & -1 \\\\\n",
    "-1 & -8 & -1 \\\\\n",
    "-1 & -1 & -1\n",
    "\\end{bmatrix}\n",
    "$$"
   ]
  },
  {
   "cell_type": "code",
   "execution_count": null,
   "metadata": {
    "ExecuteTime": {
     "end_time": "2023-10-16T19:14:32.926672600Z",
     "start_time": "2023-10-16T19:14:32.899345200Z"
    },
    "collapsed": false
   },
   "outputs": [],
   "source": [
    "import cv2\n",
    "import numpy as np\n",
    "from matplotlib import pyplot as plt\n",
    "\n",
    "\n",
    "def make_laplacian_mask() -> np.ndarray:\n",
    "    return np.array([[0, -1, 0], [-1, 4, -1], [0, -1, 0]])\n",
    "    # return np.array([[-1, -1, -1], [-1, 8, -1], [-1, -1, -1]])\n"
   ]
  },
  {
   "cell_type": "markdown",
   "metadata": {
    "collapsed": false
   },
   "source": [
    "Aplicando o filtro laplaciano na imagem:"
   ]
  },
  {
   "cell_type": "code",
   "execution_count": null,
   "metadata": {
    "ExecuteTime": {
     "end_time": "2023-10-16T19:14:32.926672600Z",
     "start_time": "2023-10-16T19:14:32.906600500Z"
    },
    "collapsed": false
   },
   "outputs": [],
   "source": [
    "def laplacian(img: np.ndarray) -> np.ndarray:\n",
    "    mask = make_laplacian_mask()\n",
    "    return cv2.filter2D(img, -1, mask)"
   ]
  },
  {
   "cell_type": "markdown",
   "metadata": {
    "collapsed": false
   },
   "source": [
    "Pode-se assumir que o ponto ocorre quando:\n",
    "\n",
    "$$\n",
    "\\begin{align}\n",
    "g(x,y) = 1 & \\text{ se } |R(x,y)| >= T \\\\\n",
    "g(x,y) = 0 & \\text{ caso contrário}\n",
    "\\end{align}\n",
    "$$\n",
    "\n",
    "Onde $R(x,y)$ é o resultado da resposta da máscara no ponto central $(x, y)$ de uma região e $T$ é um limiar não negativo que regula a intensidade da resposta que será considerada ponto isolado."
   ]
  },
  {
   "cell_type": "code",
   "execution_count": null,
   "metadata": {
    "ExecuteTime": {
     "end_time": "2023-10-16T19:14:32.926672600Z",
     "start_time": "2023-10-16T19:14:32.912155Z"
    },
    "collapsed": false
   },
   "outputs": [],
   "source": [
    "def detect_points(img: np.ndarray, t: float) -> np.ndarray:\n",
    "    lap = laplacian(img)\n",
    "    return np.where(np.abs(lap) >= t, 1, 0)"
   ]
  },
  {
   "cell_type": "markdown",
   "metadata": {
    "collapsed": false
   },
   "source": [
    "##### 1.1. Tirar uma foto de uma imagem com um fundo branco e fazer alguns pontos com caneta preta."
   ]
  },
  {
   "cell_type": "code",
   "execution_count": null,
   "metadata": {
    "ExecuteTime": {
     "end_time": "2023-10-16T19:14:33.265952700Z",
     "start_time": "2023-10-16T19:14:32.912155Z"
    },
    "collapsed": false
   },
   "outputs": [],
   "source": [
    "def exec_1_1():\n",
    "    img = cv2.imread('images/ponto.jpg', cv2.IMREAD_GRAYSCALE)\n",
    "    points = detect_points(img, 100)\n",
    "\n",
    "    _, ax = plt.subplots(1, 2, figsize=(15, 15))\n",
    "    ax[0].imshow(img, cmap='gray')\n",
    "    ax[0].set_title('Original')\n",
    "    ax[1].imshow(points, cmap='gray')\n",
    "    ax[1].set_title('Pontos detectados')\n",
    "\n",
    "\n",
    "exec_1_1()\n",
    "del exec_1_1"
   ]
  },
  {
   "cell_type": "markdown",
   "metadata": {
    "collapsed": false
   },
   "source": [
    "#### 2. Implementar limiarização, definir o limiar."
   ]
  },
  {
   "cell_type": "code",
   "execution_count": null,
   "metadata": {
    "collapsed": false
   },
   "outputs": [],
   "source": [
    "def threshold(img: np.ndarray, t: float) -> np.ndarray:\n",
    "    return np.where(img >= t, 255, 0).astype(np.uint8)"
   ]
  }
 ],
 "metadata": {
  "kernelspec": {
   "display_name": "Python 3",
   "language": "python",
   "name": "python3"
  },
  "language_info": {
   "codemirror_mode": {
    "name": "ipython",
    "version": 2
   },
   "file_extension": ".py",
   "mimetype": "text/x-python",
   "name": "python",
   "nbconvert_exporter": "python",
   "pygments_lexer": "ipython2",
   "version": "2.7.6"
  }
 },
 "nbformat": 4,
 "nbformat_minor": 0
}
