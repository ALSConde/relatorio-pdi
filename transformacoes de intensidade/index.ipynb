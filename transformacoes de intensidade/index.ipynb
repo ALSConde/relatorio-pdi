{
 "cells": [
  {
   "cell_type": "markdown",
   "metadata": {
    "collapsed": false
   },
   "source": [
    "André Luiz da Silva Conde\n",
    "\n",
    "# Trasformações de Intesidade\n",
    "\n",
    "- Utilizar as imagens Fig 3.8 e enhance-me.gif disponíveis no Moodle\n",
    "- Aplicar a transformação logarítmica, testar vários valores para o parâmetro c \"s = c log (1 + r)\"\n",
    "- Aplicar a transformação de potência (gama), testar vários valores para o parâmetro γ e c=1 \"s = crγ\"\n",
    "- Implemente a representação de cada plano de bits das imagens\n",
    "- Implementar a equalização do histograma\n",
    "- Elaborar relatório explicando a implementação de cada transformação e qual foi o efeito na imagem."
   ]
  },
  {
   "cell_type": "code",
   "execution_count": null,
   "metadata": {
    "ExecuteTime": {
     "end_time": "2023-09-11T09:42:59.658623900Z",
     "start_time": "2023-09-11T09:42:58.880194500Z"
    },
    "collapsed": false
   },
   "outputs": [],
   "source": [
    "import matplotlib.pyplot as plt\n",
    "import numpy as np\n",
    "from PIL import Image, ImageFilter\n",
    "\n",
    "enhance_me = Image.open('enhance-me.gif')\n",
    "enhance_me = enhance_me.convert('L')\n",
    "\n",
    "# apply median filter in image\n",
    "enhance_me = enhance_me.filter(ImageFilter.MedianFilter(5))\n",
    "\n",
    "fig_3_8 = Image.open('Fig0308.tif')\n",
    "fig_3_8 = fig_3_8.convert('L')\n",
    "\n",
    "\n",
    "def plot_result(original, transformed, *args):\n",
    "    fig, axs = plt.subplots(1, 2, figsize=(15, 15))\n",
    "    axs[0].imshow(original, cmap='gray')\n",
    "    axs[0].set_title('Original')\n",
    "    axs[1].imshow(transformed, cmap='gray')\n",
    "    axs[1].set_title('Transformed with {}'.format(args))\n",
    "\n",
    "\n",
    "def process(img, transformation, *args):\n",
    "    transformed = transformation(img, *args)\n",
    "    plot_result(img, transformed, *args)"
   ]
  },
  {
   "cell_type": "markdown",
   "metadata": {
    "collapsed": false
   },
   "source": [
    "1. Aplicar a transformação logarítmica, testar vários valores para o parâmetro c \"s = c log (1 + r)\"\n",
    "\n",
    "A transformação logarítmica é dada da seguinte forma para cada pixel da imagem:\n",
    "<br>\n",
    "\n",
    "<center>\n",
    "$g(x, y) = c * log(1 + f(x, y))$\n",
    "</center>\n",
    "\n",
    "Onde.\n",
    "  - $c$ é um parâmetro que pode ser ajustado para melhorar o contraste da imagem.\n",
    "  - $f(x, y)$ é o valor do pixel na posição $(x, y)$ da imagem original.\n",
    "  - $g(x, y)$ é o valor do pixel na posição $(x, y)$ da imagem transformada.\n"
   ]
  },
  {
   "cell_type": "code",
   "execution_count": null,
   "metadata": {
    "ExecuteTime": {
     "end_time": "2023-09-11T09:43:01.546296500Z",
     "start_time": "2023-09-11T09:42:59.658623900Z"
    },
    "collapsed": false
   },
   "outputs": [],
   "source": [
    "def apply_log_transformation(img, c):\n",
    "    img = np.array(img)\n",
    "    img = c * np.log2(1 + img)\n",
    "    img = np.clip(img, 0, 255)\n",
    "    img = Image.fromarray(img.astype(np.uint8))\n",
    "    return img\n",
    "\n",
    "\n",
    "#testando valores de c = 1, 10, 100, 1000 para enhance_me\n",
    "for value in [1, 10, 100, 1000]:\n",
    "    process(enhance_me, apply_log_transformation, value)"
   ]
  },
  {
   "cell_type": "code",
   "execution_count": null,
   "metadata": {
    "ExecuteTime": {
     "end_time": "2023-09-11T09:43:03.866849600Z",
     "start_time": "2023-09-11T09:43:01.546296500Z"
    },
    "collapsed": false
   },
   "outputs": [],
   "source": [
    "# testando valores\n",
    "for value in [1, 10, 100, 1000]:\n",
    "    process(fig_3_8, apply_log_transformation, value)"
   ]
  },
  {
   "cell_type": "markdown",
   "metadata": {
    "collapsed": false
   },
   "source": [
    "2. Aplicar a transformação de potência (gama), testar vários valores para o parâmetro γ e c=1 \"s = crγ\"\n",
    "\n",
    "A transformação de potência é dada da seguinte forma para cada pixel da imagem:\n",
    "<br>\n",
    "<center>\n",
    "$g(x, y) = c * f(x, y)^{\\gamma}$\n",
    "</center>\n",
    "\n",
    "Onde.\n",
    "  - $c$ é um parâmetro que pode ser ajustado para melhorar o contraste da imagem.\n",
    "  - $\\gamma$ é um parâmetro que pode ser ajustado para melhorar o contraste da imagem.\n",
    "  - $f(x, y)$ é o valor do pixel na posição $(x, y)$ da imagem original.\n",
    "  - $g(x, y)$ é o valor do pixel na posição $(x, y)$ da imagem transformada."
   ]
  },
  {
   "cell_type": "code",
   "execution_count": null,
   "metadata": {
    "ExecuteTime": {
     "end_time": "2023-09-11T09:43:06.657252300Z",
     "start_time": "2023-09-11T09:43:03.865851900Z"
    },
    "collapsed": false
   },
   "outputs": [],
   "source": [
    "def apply_gamma_transformation(img, c, gamma):\n",
    "    img = np.array(img)\n",
    "    img = c * np.power(img, gamma)\n",
    "    img = np.clip(img, 0, 255)\n",
    "    img = Image.fromarray(img.astype(np.uint8))\n",
    "    return img\n",
    "\n",
    "\n",
    "#testando valores de gamma = 0.1, 0.5, 1, 2, 5, 10 para enhance_me\n",
    "for value in [0.1, 0.5, 1, 2, 5, 10]:\n",
    "    process(enhance_me, apply_gamma_transformation, 1, value)"
   ]
  },
  {
   "cell_type": "code",
   "execution_count": null,
   "metadata": {
    "ExecuteTime": {
     "end_time": "2023-09-11T09:43:09.836845200Z",
     "start_time": "2023-09-11T09:43:06.657252300Z"
    },
    "collapsed": false
   },
   "outputs": [],
   "source": [
    "#testando valores de gamma = 0.1, 0.5, 1, 2, 5, 10 para fig_3_8\n",
    "for value in [0.1, 0.5, 1, 2, 5, 10]:\n",
    "    process(fig_3_8, apply_gamma_transformation, 1, value)"
   ]
  },
  {
   "cell_type": "markdown",
   "metadata": {
    "collapsed": false
   },
   "source": [
    "3. Implemente a representação de cada plano de bits das imagens\n",
    "\n",
    "A representação de cada plano de bits é dada da seguinte forma para cada pixel da imagem:\n",
    "<br>\n",
    "<center>\n",
    "$g(x, y) = f(x, y) \\& 2^{n}$\n",
    "</center>\n",
    "\n",
    "Onde.\n",
    "  - $n$ é o número do bit que se deseja extrair.\n",
    "  - $f(x, y)$ é o valor do pixel na posição $(x, y)$ da imagem original.\n",
    "  - $g(x, y)$ é o valor do pixel na posição $(x, y)$ da imagem transformada."
   ]
  },
  {
   "cell_type": "code",
   "execution_count": null,
   "metadata": {
    "ExecuteTime": {
     "end_time": "2023-09-11T09:43:10.849443200Z",
     "start_time": "2023-09-11T09:43:09.836845200Z"
    },
    "collapsed": false
   },
   "outputs": [],
   "source": [
    "def get_bit_plane(img, bit):\n",
    "    img = np.array(img)\n",
    "\n",
    "    # extract n bit layer\n",
    "    img = np.bitwise_and(img, 2 ** bit)\n",
    "\n",
    "    # normalize\n",
    "    img = img / 2 ** bit\n",
    "\n",
    "    return img\n",
    "\n",
    "\n",
    "plt.figure(figsize=(15, 15))\n",
    "\n",
    "# equalize image\n",
    "enhance_me = np.array(enhance_me)\n",
    "enhance_me = (enhance_me - enhance_me.min()) / (enhance_me.max() - enhance_me.min()) * 255\n",
    "enhance_me = Image.fromarray(enhance_me.astype(np.uint8))\n",
    "\n",
    "plt.subplot(3, 3, 1)\n",
    "plt.imshow(enhance_me, cmap='gray')\n",
    "plt.title('Original')\n",
    "\n",
    "for bit in range(8):\n",
    "    plt.subplot(3, 3, bit + 2)\n",
    "    plt.imshow(get_bit_plane(enhance_me, bit), cmap='gray')\n",
    "    plt.title('Bit plane {}'.format(bit))\n",
    "\n",
    "plt.show()"
   ]
  },
  {
   "cell_type": "markdown",
   "metadata": {},
   "source": [
    "Exibir o plano de bits:"
   ]
  },
  {
   "cell_type": "code",
   "execution_count": null,
   "metadata": {
    "ExecuteTime": {
     "end_time": "2023-09-11T09:43:12.559927400Z",
     "start_time": "2023-09-11T09:43:10.849443200Z"
    },
    "collapsed": false
   },
   "outputs": [],
   "source": [
    "plt.figure(figsize=(15, 15))\n",
    "\n",
    "plt.subplot(3, 3, 1)\n",
    "plt.imshow(fig_3_8, cmap='gray')\n",
    "plt.title('Original')\n",
    "\n",
    "for bit in range(8):\n",
    "    plt.subplot(3, 3, bit + 2)\n",
    "    plt.imshow(get_bit_plane(fig_3_8, bit), cmap='gray')\n",
    "    plt.title('Bit plane {}'.format(bit))"
   ]
  },
  {
   "cell_type": "markdown",
   "metadata": {
    "collapsed": false
   },
   "source": [
    "4. Implementar a equalização do histograma"
   ]
  },
  {
   "cell_type": "code",
   "execution_count": null,
   "metadata": {
    "ExecuteTime": {
     "end_time": "2023-09-11T10:10:02.013644200Z",
     "start_time": "2023-09-11T10:10:01.182070300Z"
    },
    "collapsed": false
   },
   "outputs": [],
   "source": [
    "from PIL import ImageOps\n",
    "\n",
    "\n",
    "def equalize_histogram(img):\n",
    "    # plot image\n",
    "    img1 = np.array(img)\n",
    "\n",
    "    plt.figure(figsize=(50, 50))\n",
    "    plt.rcParams.update({'font.size': 32})\n",
    "\n",
    "    # plot histogram\n",
    "    plt.subplot(2, 2, 1)\n",
    "    plt.hist(img1.ravel(), bins=256, range=(0, 255))\n",
    "    plt.title('Original' )\n",
    "\n",
    "    # equalize histogram\n",
    "    img = ImageOps.equalize(img)\n",
    "    img = np.array(img)\n",
    "\n",
    "    # plot equalized image\n",
    "    plt.subplot(2, 2, 2)\n",
    "    plt.hist(img.ravel(), bins=256,  range=(0, 255))\n",
    "    plt.title('Equalized')\n",
    "\n",
    "    plt.show()\n",
    "\n",
    "\n",
    "equalize_histogram(enhance_me)"
   ]
  },
  {
   "cell_type": "markdown",
   "metadata": {},
   "source": [
    "Realizar a equalização do histograma para a figura 3.8:"
   ]
  },
  {
   "cell_type": "code",
   "execution_count": null,
   "metadata": {
    "ExecuteTime": {
     "end_time": "2023-09-11T10:10:14.584236100Z",
     "start_time": "2023-09-11T10:10:13.733758500Z"
    },
    "collapsed": false
   },
   "outputs": [],
   "source": [
    "equalize_histogram(fig_3_8)"
   ]
  }
 ],
 "metadata": {
  "kernelspec": {
   "display_name": "Python 3",
   "language": "python",
   "name": "python3"
  },
  "language_info": {
   "codemirror_mode": {
    "name": "ipython",
    "version": 2
   },
   "file_extension": ".py",
   "mimetype": "text/x-python",
   "name": "python",
   "nbconvert_exporter": "python",
   "pygments_lexer": "ipython2",
   "version": "2.7.6"
  }
 },
 "nbformat": 4,
 "nbformat_minor": 0
}
